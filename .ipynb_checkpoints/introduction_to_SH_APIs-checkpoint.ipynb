{
 "cells": [
  {
   "cell_type": "markdown",
   "id": "351eb2ac",
   "metadata": {},
   "source": [
    "# First Steps in accessing Satellite Imagery on Copernicus Data Space Ecosystem with Sentinel Hub APIs\n",
    "\n",
    "The Sentinel Hub API is a RESTful API interface that provides access to various satellite imagery archives. It allows you to access raw satellite data, rendered images, statistical analysis, and other features."
   ]
  },
  {
   "cell_type": "code",
   "id": "f9e0700d-a086-4c26-81a9-231a1bf42ccc",
   "metadata": {
    "ExecuteTime": {
     "end_time": "2024-04-01T09:21:22.146916Z",
     "start_time": "2024-04-01T09:21:22.143655Z"
    }
   },
   "source": [
    "# Utilities\n",
    "import matplotlib.pyplot as plt\n",
    "import pandas as pd\n",
    "import getpass\n",
    "\n",
    "from sentinelhub import (\n",
    "    SHConfig,\n",
    "    DataCollection,\n",
    "    SentinelHubCatalog,\n",
    "    SentinelHubRequest,\n",
    "    SentinelHubStatistical,\n",
    "    BBox,\n",
    "    bbox_to_dimensions,\n",
    "    CRS,\n",
    "    MimeType,\n",
    "    Geometry,\n",
    ")\n",
    "\n",
    "from utils import plot_image"
   ],
   "outputs": [],
   "execution_count": 9
  },
  {
   "cell_type": "markdown",
   "id": "c6dfaaae-b685-43f5-b9bf-79ea8db3e7c6",
   "metadata": {
    "tags": []
   },
   "source": [
    "## Credentials\n",
    "\n",
    "Credentials for Sentinel Hub services (`client_id` & `client_secret`) can be obtained in your [Dashboard](https://shapps.dataspace.copernicus.eu/dashboard/#/). In the User Settings you can create a new OAuth Client to generate these credentials. For more detailed instructions, visit the relevant [documentation page](https://documentation.dataspace.copernicus.eu/APIs/SentinelHub/Overview/Authentication.html).\n",
    "\n",
    "Now that you have your `client_id` & `client_secret`, it is recommended to configure a new profile in your Sentinel Hub Python package. Instructions on how to configure your Sentinel Hub Python package can be found [here](https://sentinelhub-py.readthedocs.io/en/latest/configure.html). Using these instructions you can create a profile specific to using the package for accessing Copernicus Data Space Ecosystem data collections. This is useful as changes to the the config class are usually only temporary in your notebook and by saving the configuration to your profile you won't need to generate new credentials or overwrite/change the default profile each time you rerun or write a new Jupyter Notebook. \n",
    "\n",
    "If you are a first time user of the Sentinel Hub Python package for Copernicus Data Space Ecosystem, you should create a profile specific to the Copernicus Data Space Ecosystem. You can do this in the following cell:"
   ]
  },
  {
   "cell_type": "code",
   "id": "f5a9f68c-b5e4-4e54-bd39-7e9f66fbe071",
   "metadata": {
    "tags": [],
    "ExecuteTime": {
     "end_time": "2024-04-01T09:21:22.202698Z",
     "start_time": "2024-04-01T09:21:22.199231Z"
    }
   },
   "source": [
    "# Only run this cell if you have not created a configuration.\n",
    "\n",
    "config = SHConfig()\n",
    "# config.sh_client_id = getpass.getpass(\"Enter your SentinelHub client id\")\n",
    "# config.sh_client_secret = getpass.getpass(\"Enter your SentinelHub client secret\")\n",
    "config.sh_token_url = \"https://identity.dataspace.copernicus.eu/auth/realms/CDSE/protocol/openid-connect/token\"\n",
    "config.sh_base_url = \"https://sh.dataspace.copernicus.eu\"\n",
    "# config.save(\"cdse\")"
   ],
   "outputs": [],
   "execution_count": 10
  },
  {
   "cell_type": "markdown",
   "id": "98c64ba7-bbbd-4f0f-aa75-9327f8729c09",
   "metadata": {},
   "source": [
    "However, if you have already configured a profile in Sentinel Hub Python for the Copernicus Data Space Ecosystem, then you can run the below cell entering the profile name as a string replacing `<profile_name>`."
   ]
  },
  {
   "cell_type": "code",
   "id": "d0f8829e-e3b1-4925-9fc2-343da709e16c",
   "metadata": {
    "ExecuteTime": {
     "end_time": "2024-04-01T09:21:22.217065Z",
     "start_time": "2024-04-01T09:21:22.206602Z"
    }
   },
   "source": [
    "# config = SHConfig(\"profile_name\")"
   ],
   "outputs": [],
   "execution_count": 11
  },
  {
   "cell_type": "markdown",
   "id": "35f28852-5f97-406d-beab-05a4b4d8b0cc",
   "metadata": {},
   "source": [
    "## Setting an area of interest\n",
    "\n",
    "The bounding box in `WGS84` coordinate system is `[(longitude and latitude coordinates of lower left and upper right corners)]`. You can get the bbox for a different area at the [bboxfinder](http://bboxfinder.com/) website.\n",
    "\n",
    "All requests require a bounding box to be given as an instance of `sentinelhub.geometry.BBox` with corresponding Coordinate Reference System (`sentinelhub.constants.CRS`). In our case it is in WGS84 and we can use the predefined WGS84 coordinate reference system from `sentinelhub.constants.CRS`."
   ]
  },
  {
   "cell_type": "code",
   "id": "d412d626-ea24-425d-8c3d-82bc309dd072",
   "metadata": {
    "ExecuteTime": {
     "end_time": "2024-04-01T09:21:22.228073Z",
     "start_time": "2024-04-01T09:21:22.218737Z"
    }
   },
   "source": [
    "aoi_coords_wgs84 = [15.461282, 46.757161, 15.574922, 46.851514]"
   ],
   "outputs": [],
   "execution_count": 12
  },
  {
   "cell_type": "markdown",
   "id": "16d685e9-9ac5-4102-9f54-00f58eecc485",
   "metadata": {},
   "source": [
    "When the bounding box bounds have been defined, you can initialize the `BBox` of the area of interest. Using the `bbox_to_dimensions` utility function, you can provide the desired resolution parameter of the image in meters and obtain the output image shape."
   ]
  },
  {
   "cell_type": "code",
   "id": "7043be55-c11c-4ab2-bebd-f787996a01d9",
   "metadata": {
    "ExecuteTime": {
     "end_time": "2024-04-01T09:21:22.239837Z",
     "start_time": "2024-04-01T09:21:22.229444Z"
    }
   },
   "source": [
    "resolution = 10\n",
    "aoi_bbox = BBox(bbox=aoi_coords_wgs84, crs=CRS.WGS84)\n",
    "aoi_size = bbox_to_dimensions(aoi_bbox, resolution=resolution)\n",
    "\n",
    "print(f\"Image shape at {resolution} m resolution: {aoi_size} pixels\")"
   ],
   "outputs": [
    {
     "name": "stdout",
     "output_type": "stream",
     "text": [
      "Image shape at 10 m resolution: (860, 1054) pixels\n"
     ]
    }
   ],
   "execution_count": 13
  },
  {
   "cell_type": "markdown",
   "id": "275a3f46-ed45-4ab2-8195-4f11617d244a",
   "metadata": {},
   "source": [
    "## Catalog API\n",
    "To search and discover data, you can use the Catalog API. Sentinel Hub Catalog API (or shortly \"Catalog\") is an API implementing the STAC Specification, providing geospatial information for data available in Sentinel Hub. Firstly, to initialise the `SentinelHubCatalog` class we will use:"
   ]
  },
  {
   "cell_type": "code",
   "id": "3c71cd8e-9b19-4266-8b61-dbcc15edd9c5",
   "metadata": {
    "ExecuteTime": {
     "end_time": "2024-04-01T09:21:22.249002Z",
     "start_time": "2024-04-01T09:21:22.241305Z"
    }
   },
   "source": [
    "catalog = SentinelHubCatalog(config=config)"
   ],
   "outputs": [],
   "execution_count": 14
  },
  {
   "cell_type": "markdown",
   "id": "c3fc908c-eeac-4005-a0ea-fb0073104828",
   "metadata": {},
   "source": [
    "Now we can build the Catalog API request; to do this we use the `aoi_bbox` we defined earlier as well as `time_interval` and insert these into the request:"
   ]
  },
  {
   "cell_type": "code",
   "id": "ac786fc5-7643-4891-a893-991f26016483",
   "metadata": {
    "ExecuteTime": {
     "end_time": "2024-04-01T09:21:22.563655Z",
     "start_time": "2024-04-01T09:21:22.272994Z"
    }
   },
   "source": [
    "aoi_bbox = BBox(bbox=aoi_coords_wgs84, crs=CRS.WGS84)\n",
    "time_interval = \"2022-07-01\", \"2022-07-20\"\n",
    "\n",
    "search_iterator = catalog.search(\n",
    "    DataCollection.SENTINEL2_L2A,\n",
    "    bbox=aoi_bbox,\n",
    "    time=time_interval,\n",
    "    fields={\"include\": [\"id\", \"properties.datetime\"], \"exclude\": []},\n",
    ")\n",
    "\n",
    "results = list(search_iterator)\n",
    "print(\"Total number of results:\", len(results))\n",
    "\n",
    "results"
   ],
   "outputs": [
    {
     "ename": "ValueError",
     "evalue": "Configuration parameters 'sh_client_id' and 'sh_client_secret' have to be set in order to authenticate with Sentinel Hub service. Check https://sentinelhub-py.readthedocs.io/en/latest/configure.html for more info.",
     "output_type": "error",
     "traceback": [
      "\u001B[0;31m---------------------------------------------------------------------------\u001B[0m",
      "\u001B[0;31mValueError\u001B[0m                                Traceback (most recent call last)",
      "Cell \u001B[0;32mIn[15], line 11\u001B[0m\n\u001B[1;32m      2\u001B[0m time_interval \u001B[38;5;241m=\u001B[39m \u001B[38;5;124m\"\u001B[39m\u001B[38;5;124m2022-07-01\u001B[39m\u001B[38;5;124m\"\u001B[39m, \u001B[38;5;124m\"\u001B[39m\u001B[38;5;124m2022-07-20\u001B[39m\u001B[38;5;124m\"\u001B[39m\n\u001B[1;32m      4\u001B[0m search_iterator \u001B[38;5;241m=\u001B[39m catalog\u001B[38;5;241m.\u001B[39msearch(\n\u001B[1;32m      5\u001B[0m     DataCollection\u001B[38;5;241m.\u001B[39mSENTINEL2_L2A,\n\u001B[1;32m      6\u001B[0m     bbox\u001B[38;5;241m=\u001B[39maoi_bbox,\n\u001B[1;32m      7\u001B[0m     time\u001B[38;5;241m=\u001B[39mtime_interval,\n\u001B[1;32m      8\u001B[0m     fields\u001B[38;5;241m=\u001B[39m{\u001B[38;5;124m\"\u001B[39m\u001B[38;5;124minclude\u001B[39m\u001B[38;5;124m\"\u001B[39m: [\u001B[38;5;124m\"\u001B[39m\u001B[38;5;124mid\u001B[39m\u001B[38;5;124m\"\u001B[39m, \u001B[38;5;124m\"\u001B[39m\u001B[38;5;124mproperties.datetime\u001B[39m\u001B[38;5;124m\"\u001B[39m], \u001B[38;5;124m\"\u001B[39m\u001B[38;5;124mexclude\u001B[39m\u001B[38;5;124m\"\u001B[39m: []},\n\u001B[1;32m      9\u001B[0m )\n\u001B[0;32m---> 11\u001B[0m results \u001B[38;5;241m=\u001B[39m \u001B[38;5;28;43mlist\u001B[39;49m\u001B[43m(\u001B[49m\u001B[43msearch_iterator\u001B[49m\u001B[43m)\u001B[49m\n\u001B[1;32m     12\u001B[0m \u001B[38;5;28mprint\u001B[39m(\u001B[38;5;124m\"\u001B[39m\u001B[38;5;124mTotal number of results:\u001B[39m\u001B[38;5;124m\"\u001B[39m, \u001B[38;5;28mlen\u001B[39m(results))\n\u001B[1;32m     14\u001B[0m results\n",
      "File \u001B[0;32m~/copernicus/venv/lib/python3.10/site-packages/sentinelhub/base.py:277\u001B[0m, in \u001B[0;36mFeatureIterator.__next__\u001B[0;34m(self)\u001B[0m\n\u001B[1;32m    272\u001B[0m \u001B[38;5;250m\u001B[39m\u001B[38;5;124;03m\"\"\"Method called to provide the next feature in iteration\u001B[39;00m\n\u001B[1;32m    273\u001B[0m \n\u001B[1;32m    274\u001B[0m \u001B[38;5;124;03m:return: the next feature\u001B[39;00m\n\u001B[1;32m    275\u001B[0m \u001B[38;5;124;03m\"\"\"\u001B[39;00m\n\u001B[1;32m    276\u001B[0m \u001B[38;5;28;01mwhile\u001B[39;00m \u001B[38;5;28mself\u001B[39m\u001B[38;5;241m.\u001B[39mindex \u001B[38;5;241m>\u001B[39m\u001B[38;5;241m=\u001B[39m \u001B[38;5;28mlen\u001B[39m(\u001B[38;5;28mself\u001B[39m\u001B[38;5;241m.\u001B[39mfeatures) \u001B[38;5;129;01mand\u001B[39;00m \u001B[38;5;129;01mnot\u001B[39;00m \u001B[38;5;28mself\u001B[39m\u001B[38;5;241m.\u001B[39mfinished:\n\u001B[0;32m--> 277\u001B[0m     new_features \u001B[38;5;241m=\u001B[39m \u001B[38;5;28;43mself\u001B[39;49m\u001B[38;5;241;43m.\u001B[39;49m\u001B[43m_fetch_features\u001B[49m\u001B[43m(\u001B[49m\u001B[43m)\u001B[49m\n\u001B[1;32m    278\u001B[0m     \u001B[38;5;28mself\u001B[39m\u001B[38;5;241m.\u001B[39mfeatures\u001B[38;5;241m.\u001B[39mextend(new_features)\n\u001B[1;32m    280\u001B[0m \u001B[38;5;28;01mif\u001B[39;00m \u001B[38;5;28mself\u001B[39m\u001B[38;5;241m.\u001B[39mindex \u001B[38;5;241m<\u001B[39m \u001B[38;5;28mlen\u001B[39m(\u001B[38;5;28mself\u001B[39m\u001B[38;5;241m.\u001B[39mfeatures):\n",
      "File \u001B[0;32m~/copernicus/venv/lib/python3.10/site-packages/sentinelhub/api/catalog.py:243\u001B[0m, in \u001B[0;36mCatalogSearchIterator._fetch_features\u001B[0;34m(self)\u001B[0m\n\u001B[1;32m    240\u001B[0m \u001B[38;5;250m\u001B[39m\u001B[38;5;124;03m\"\"\"Collects more results from the service\"\"\"\u001B[39;00m\n\u001B[1;32m    241\u001B[0m payload \u001B[38;5;241m=\u001B[39m remove_undefined({\u001B[38;5;241m*\u001B[39m\u001B[38;5;241m*\u001B[39m\u001B[38;5;28mself\u001B[39m\u001B[38;5;241m.\u001B[39mparams, \u001B[38;5;124m\"\u001B[39m\u001B[38;5;124mnext\u001B[39m\u001B[38;5;124m\"\u001B[39m: \u001B[38;5;28mself\u001B[39m\u001B[38;5;241m.\u001B[39mnext})\n\u001B[0;32m--> 243\u001B[0m results \u001B[38;5;241m=\u001B[39m \u001B[38;5;28;43mself\u001B[39;49m\u001B[38;5;241;43m.\u001B[39;49m\u001B[43mclient\u001B[49m\u001B[38;5;241;43m.\u001B[39;49m\u001B[43mget_json_dict\u001B[49m\u001B[43m(\u001B[49m\u001B[38;5;28;43mself\u001B[39;49m\u001B[38;5;241;43m.\u001B[39;49m\u001B[43murl\u001B[49m\u001B[43m,\u001B[49m\u001B[43m \u001B[49m\u001B[43mpost_values\u001B[49m\u001B[38;5;241;43m=\u001B[39;49m\u001B[43mpayload\u001B[49m\u001B[43m,\u001B[49m\u001B[43m \u001B[49m\u001B[43muse_session\u001B[49m\u001B[38;5;241;43m=\u001B[39;49m\u001B[38;5;28;43;01mTrue\u001B[39;49;00m\u001B[43m)\u001B[49m\n\u001B[1;32m    245\u001B[0m \u001B[38;5;28mself\u001B[39m\u001B[38;5;241m.\u001B[39mnext \u001B[38;5;241m=\u001B[39m results[\u001B[38;5;124m\"\u001B[39m\u001B[38;5;124mcontext\u001B[39m\u001B[38;5;124m\"\u001B[39m]\u001B[38;5;241m.\u001B[39mget(\u001B[38;5;124m\"\u001B[39m\u001B[38;5;124mnext\u001B[39m\u001B[38;5;124m\"\u001B[39m)\n\u001B[1;32m    246\u001B[0m new_features \u001B[38;5;241m=\u001B[39m results[\u001B[38;5;124m\"\u001B[39m\u001B[38;5;124mfeatures\u001B[39m\u001B[38;5;124m\"\u001B[39m]\n",
      "File \u001B[0;32m~/copernicus/venv/lib/python3.10/site-packages/sentinelhub/download/client.py:248\u001B[0m, in \u001B[0;36mDownloadClient.get_json_dict\u001B[0;34m(self, url, extract_key, *args, **kwargs)\u001B[0m\n\u001B[1;32m    240\u001B[0m \u001B[38;5;28;01mdef\u001B[39;00m \u001B[38;5;21mget_json_dict\u001B[39m(\u001B[38;5;28mself\u001B[39m, url: \u001B[38;5;28mstr\u001B[39m, \u001B[38;5;241m*\u001B[39margs: Any, extract_key: \u001B[38;5;28mstr\u001B[39m \u001B[38;5;241m|\u001B[39m \u001B[38;5;28;01mNone\u001B[39;00m \u001B[38;5;241m=\u001B[39m \u001B[38;5;28;01mNone\u001B[39;00m, \u001B[38;5;241m*\u001B[39m\u001B[38;5;241m*\u001B[39mkwargs: Any) \u001B[38;5;241m-\u001B[39m\u001B[38;5;241m>\u001B[39m JsonDict:\n\u001B[1;32m    241\u001B[0m \u001B[38;5;250m    \u001B[39m\u001B[38;5;124;03m\"\"\"Download request as JSON data type, failing if the result is not a dictionary\u001B[39;00m\n\u001B[1;32m    242\u001B[0m \n\u001B[1;32m    243\u001B[0m \u001B[38;5;124;03m    For other parameters see `get_json` method.\u001B[39;00m\n\u001B[0;32m   (...)\u001B[0m\n\u001B[1;32m    246\u001B[0m \u001B[38;5;124;03m    :param extract_key: If provided, the field is automatically extracted, checked, and returned\u001B[39;00m\n\u001B[1;32m    247\u001B[0m \u001B[38;5;124;03m    \"\"\"\u001B[39;00m\n\u001B[0;32m--> 248\u001B[0m     response \u001B[38;5;241m=\u001B[39m \u001B[38;5;28;43mself\u001B[39;49m\u001B[38;5;241;43m.\u001B[39;49m\u001B[43mget_json\u001B[49m\u001B[43m(\u001B[49m\u001B[43murl\u001B[49m\u001B[43m,\u001B[49m\u001B[43m \u001B[49m\u001B[38;5;241;43m*\u001B[39;49m\u001B[43margs\u001B[49m\u001B[43m,\u001B[49m\u001B[43m \u001B[49m\u001B[38;5;241;43m*\u001B[39;49m\u001B[38;5;241;43m*\u001B[39;49m\u001B[43mkwargs\u001B[49m\u001B[43m)\u001B[49m\n\u001B[1;32m    250\u001B[0m     \u001B[38;5;28;01mif\u001B[39;00m \u001B[38;5;129;01mnot\u001B[39;00m \u001B[38;5;28misinstance\u001B[39m(response, \u001B[38;5;28mdict\u001B[39m):\n\u001B[1;32m    251\u001B[0m         \u001B[38;5;28;01mraise\u001B[39;00m MissingDataInRequestException(\n\u001B[1;32m    252\u001B[0m             \u001B[38;5;124mf\u001B[39m\u001B[38;5;124m\"\u001B[39m\u001B[38;5;124mResponse from \u001B[39m\u001B[38;5;132;01m{\u001B[39;00murl\u001B[38;5;132;01m}\u001B[39;00m\u001B[38;5;124m was expected to be a dictionary, but got \u001B[39m\u001B[38;5;132;01m{\u001B[39;00m\u001B[38;5;28mtype\u001B[39m(response)\u001B[38;5;132;01m}\u001B[39;00m\u001B[38;5;124m.\u001B[39m\u001B[38;5;124m\"\u001B[39m\n\u001B[1;32m    253\u001B[0m         )\n",
      "File \u001B[0;32m~/copernicus/venv/lib/python3.10/site-packages/sentinelhub/download/client.py:238\u001B[0m, in \u001B[0;36mDownloadClient.get_json\u001B[0;34m(self, url, post_values, headers, request_type, **kwargs)\u001B[0m\n\u001B[1;32m    227\u001B[0m     json_headers \u001B[38;5;241m=\u001B[39m {\u001B[38;5;124m\"\u001B[39m\u001B[38;5;124mContent-Type\u001B[39m\u001B[38;5;124m\"\u001B[39m: MimeType\u001B[38;5;241m.\u001B[39mJSON\u001B[38;5;241m.\u001B[39mget_string(), \u001B[38;5;241m*\u001B[39m\u001B[38;5;241m*\u001B[39mjson_headers}\n\u001B[1;32m    229\u001B[0m request \u001B[38;5;241m=\u001B[39m DownloadRequest(\n\u001B[1;32m    230\u001B[0m     url\u001B[38;5;241m=\u001B[39murl,\n\u001B[1;32m    231\u001B[0m     headers\u001B[38;5;241m=\u001B[39mjson_headers,\n\u001B[0;32m   (...)\u001B[0m\n\u001B[1;32m    235\u001B[0m     \u001B[38;5;241m*\u001B[39m\u001B[38;5;241m*\u001B[39mkwargs,\n\u001B[1;32m    236\u001B[0m )\n\u001B[0;32m--> 238\u001B[0m \u001B[38;5;28;01mreturn\u001B[39;00m \u001B[38;5;28;43mself\u001B[39;49m\u001B[38;5;241;43m.\u001B[39;49m\u001B[43m_single_download_decoded\u001B[49m\u001B[43m(\u001B[49m\u001B[43mrequest\u001B[49m\u001B[43m)\u001B[49m\n",
      "File \u001B[0;32m~/copernicus/venv/lib/python3.10/site-packages/sentinelhub/download/client.py:116\u001B[0m, in \u001B[0;36mDownloadClient._single_download_decoded\u001B[0;34m(self, request)\u001B[0m\n\u001B[1;32m    114\u001B[0m \u001B[38;5;28;01mdef\u001B[39;00m \u001B[38;5;21m_single_download_decoded\u001B[39m(\u001B[38;5;28mself\u001B[39m, request: DownloadRequest) \u001B[38;5;241m-\u001B[39m\u001B[38;5;241m>\u001B[39m Any:\n\u001B[1;32m    115\u001B[0m \u001B[38;5;250m    \u001B[39m\u001B[38;5;124;03m\"\"\"Downloads a response and decodes it into data. By decoding a single response\"\"\"\u001B[39;00m\n\u001B[0;32m--> 116\u001B[0m     response \u001B[38;5;241m=\u001B[39m \u001B[38;5;28;43mself\u001B[39;49m\u001B[38;5;241;43m.\u001B[39;49m\u001B[43m_single_download\u001B[49m\u001B[43m(\u001B[49m\u001B[43mrequest\u001B[49m\u001B[43m)\u001B[49m\n\u001B[1;32m    117\u001B[0m     \u001B[38;5;28;01mreturn\u001B[39;00m \u001B[38;5;28;01mNone\u001B[39;00m \u001B[38;5;28;01mif\u001B[39;00m response \u001B[38;5;129;01mis\u001B[39;00m \u001B[38;5;28;01mNone\u001B[39;00m \u001B[38;5;28;01melse\u001B[39;00m response\u001B[38;5;241m.\u001B[39mdecode()\n",
      "File \u001B[0;32m~/copernicus/venv/lib/python3.10/site-packages/sentinelhub/download/client.py:129\u001B[0m, in \u001B[0;36mDownloadClient._single_download\u001B[0;34m(self, request)\u001B[0m\n\u001B[1;32m    127\u001B[0m no_local_data \u001B[38;5;241m=\u001B[39m \u001B[38;5;28mself\u001B[39m\u001B[38;5;241m.\u001B[39mredownload \u001B[38;5;129;01mor\u001B[39;00m response_path \u001B[38;5;129;01mis\u001B[39;00m \u001B[38;5;28;01mNone\u001B[39;00m \u001B[38;5;129;01mor\u001B[39;00m \u001B[38;5;129;01mnot\u001B[39;00m os\u001B[38;5;241m.\u001B[39mpath\u001B[38;5;241m.\u001B[39mexists(response_path)\n\u001B[1;32m    128\u001B[0m \u001B[38;5;28;01mif\u001B[39;00m no_local_data:\n\u001B[0;32m--> 129\u001B[0m     response \u001B[38;5;241m=\u001B[39m \u001B[38;5;28;43mself\u001B[39;49m\u001B[38;5;241;43m.\u001B[39;49m\u001B[43m_execute_download\u001B[49m\u001B[43m(\u001B[49m\u001B[43mrequest\u001B[49m\u001B[43m)\u001B[49m\n\u001B[1;32m    130\u001B[0m \u001B[38;5;28;01melse\u001B[39;00m:\n\u001B[1;32m    131\u001B[0m     \u001B[38;5;28;01mif\u001B[39;00m \u001B[38;5;129;01mnot\u001B[39;00m request\u001B[38;5;241m.\u001B[39mreturn_data \u001B[38;5;129;01mor\u001B[39;00m response_path \u001B[38;5;129;01mis\u001B[39;00m \u001B[38;5;28;01mNone\u001B[39;00m:\n",
      "File \u001B[0;32m~/copernicus/venv/lib/python3.10/site-packages/sentinelhub/download/handlers.py:67\u001B[0m, in \u001B[0;36mretry_temporary_errors.<locals>.new_download_func\u001B[0;34m(self, request)\u001B[0m\n\u001B[1;32m     65\u001B[0m \u001B[38;5;28;01mfor\u001B[39;00m attempt_idx \u001B[38;5;129;01min\u001B[39;00m \u001B[38;5;28mrange\u001B[39m(download_attempts):\n\u001B[1;32m     66\u001B[0m     \u001B[38;5;28;01mtry\u001B[39;00m:\n\u001B[0;32m---> 67\u001B[0m         \u001B[38;5;28;01mreturn\u001B[39;00m \u001B[43mdownload_func\u001B[49m\u001B[43m(\u001B[49m\u001B[38;5;28;43mself\u001B[39;49m\u001B[43m,\u001B[49m\u001B[43m \u001B[49m\u001B[43mrequest\u001B[49m\u001B[43m)\u001B[49m\n\u001B[1;32m     69\u001B[0m     \u001B[38;5;28;01mexcept\u001B[39;00m requests\u001B[38;5;241m.\u001B[39mRequestException \u001B[38;5;28;01mas\u001B[39;00m exception:  \u001B[38;5;66;03m# noqa: PERF203\u001B[39;00m\n\u001B[1;32m     70\u001B[0m         attempts_left \u001B[38;5;241m=\u001B[39m download_attempts \u001B[38;5;241m-\u001B[39m (attempt_idx \u001B[38;5;241m+\u001B[39m \u001B[38;5;241m1\u001B[39m)\n",
      "File \u001B[0;32m~/copernicus/venv/lib/python3.10/site-packages/sentinelhub/download/handlers.py:40\u001B[0m, in \u001B[0;36mfail_user_errors.<locals>.new_download_func\u001B[0;34m(self, request)\u001B[0m\n\u001B[1;32m     37\u001B[0m \u001B[38;5;129m@functools\u001B[39m\u001B[38;5;241m.\u001B[39mwraps(download_func)\n\u001B[1;32m     38\u001B[0m \u001B[38;5;28;01mdef\u001B[39;00m \u001B[38;5;21mnew_download_func\u001B[39m(\u001B[38;5;28mself\u001B[39m: Self, request: DownloadRequest) \u001B[38;5;241m-\u001B[39m\u001B[38;5;241m>\u001B[39m T:\n\u001B[1;32m     39\u001B[0m     \u001B[38;5;28;01mtry\u001B[39;00m:\n\u001B[0;32m---> 40\u001B[0m         \u001B[38;5;28;01mreturn\u001B[39;00m \u001B[43mdownload_func\u001B[49m\u001B[43m(\u001B[49m\u001B[38;5;28;43mself\u001B[39;49m\u001B[43m,\u001B[49m\u001B[43m \u001B[49m\u001B[43mrequest\u001B[49m\u001B[43m)\u001B[49m\n\u001B[1;32m     41\u001B[0m     \u001B[38;5;28;01mexcept\u001B[39;00m requests\u001B[38;5;241m.\u001B[39mHTTPError \u001B[38;5;28;01mas\u001B[39;00m exception:\n\u001B[1;32m     42\u001B[0m         \u001B[38;5;28;01mif\u001B[39;00m (\n\u001B[1;32m     43\u001B[0m             exception\u001B[38;5;241m.\u001B[39mresponse\u001B[38;5;241m.\u001B[39mstatus_code \u001B[38;5;241m<\u001B[39m requests\u001B[38;5;241m.\u001B[39mstatus_codes\u001B[38;5;241m.\u001B[39mcodes\u001B[38;5;241m.\u001B[39mINTERNAL_SERVER_ERROR\n\u001B[1;32m     44\u001B[0m             \u001B[38;5;129;01mand\u001B[39;00m exception\u001B[38;5;241m.\u001B[39mresponse\u001B[38;5;241m.\u001B[39mstatus_code \u001B[38;5;241m!=\u001B[39m requests\u001B[38;5;241m.\u001B[39mstatus_codes\u001B[38;5;241m.\u001B[39mcodes\u001B[38;5;241m.\u001B[39mTOO_MANY_REQUESTS\n\u001B[1;32m     45\u001B[0m         ):\n",
      "File \u001B[0;32m~/copernicus/venv/lib/python3.10/site-packages/sentinelhub/download/sentinelhub_client.py:88\u001B[0m, in \u001B[0;36mSentinelHubDownloadClient._execute_download\u001B[0;34m(self, request)\u001B[0m\n\u001B[1;32m     81\u001B[0m \u001B[38;5;28;01mif\u001B[39;00m sleep_time \u001B[38;5;241m==\u001B[39m \u001B[38;5;241m0\u001B[39m:\n\u001B[1;32m     82\u001B[0m     LOGGER\u001B[38;5;241m.\u001B[39mdebug(\n\u001B[1;32m     83\u001B[0m         \u001B[38;5;124m\"\u001B[39m\u001B[38;5;124mSending \u001B[39m\u001B[38;5;132;01m%s\u001B[39;00m\u001B[38;5;124m request to \u001B[39m\u001B[38;5;132;01m%s\u001B[39;00m\u001B[38;5;124m. Hash of sent request is \u001B[39m\u001B[38;5;132;01m%s\u001B[39;00m\u001B[38;5;124m\"\u001B[39m,\n\u001B[1;32m     84\u001B[0m         request\u001B[38;5;241m.\u001B[39mrequest_type\u001B[38;5;241m.\u001B[39mvalue,\n\u001B[1;32m     85\u001B[0m         request\u001B[38;5;241m.\u001B[39murl,\n\u001B[1;32m     86\u001B[0m         request\u001B[38;5;241m.\u001B[39mget_hashed_name(),\n\u001B[1;32m     87\u001B[0m     )\n\u001B[0;32m---> 88\u001B[0m     response \u001B[38;5;241m=\u001B[39m \u001B[38;5;28;43mself\u001B[39;49m\u001B[38;5;241;43m.\u001B[39;49m\u001B[43m_do_download\u001B[49m\u001B[43m(\u001B[49m\u001B[43mrequest\u001B[49m\u001B[43m)\u001B[49m\n\u001B[1;32m     90\u001B[0m     \u001B[38;5;28;01mif\u001B[39;00m response\u001B[38;5;241m.\u001B[39mstatus_code \u001B[38;5;241m==\u001B[39m requests\u001B[38;5;241m.\u001B[39mstatus_codes\u001B[38;5;241m.\u001B[39mcodes\u001B[38;5;241m.\u001B[39mTOO_MANY_REQUESTS:\n\u001B[1;32m     91\u001B[0m         warnings\u001B[38;5;241m.\u001B[39mwarn(\u001B[38;5;124m\"\u001B[39m\u001B[38;5;124mDownload rate limit hit\u001B[39m\u001B[38;5;124m\"\u001B[39m, category\u001B[38;5;241m=\u001B[39mSHRateLimitWarning)\n",
      "File \u001B[0;32m~/copernicus/venv/lib/python3.10/site-packages/sentinelhub/download/sentinelhub_client.py:120\u001B[0m, in \u001B[0;36mSentinelHubDownloadClient._do_download\u001B[0;34m(self, request)\u001B[0m\n\u001B[1;32m    113\u001B[0m \u001B[38;5;28;01mif\u001B[39;00m request\u001B[38;5;241m.\u001B[39murl \u001B[38;5;129;01mis\u001B[39;00m \u001B[38;5;28;01mNone\u001B[39;00m:\n\u001B[1;32m    114\u001B[0m     \u001B[38;5;28;01mraise\u001B[39;00m \u001B[38;5;167;01mValueError\u001B[39;00m(\u001B[38;5;124mf\u001B[39m\u001B[38;5;124m\"\u001B[39m\u001B[38;5;124mFaulty request \u001B[39m\u001B[38;5;132;01m{\u001B[39;00mrequest\u001B[38;5;132;01m}\u001B[39;00m\u001B[38;5;124m, no URL specified.\u001B[39m\u001B[38;5;124m\"\u001B[39m)\n\u001B[1;32m    116\u001B[0m \u001B[38;5;28;01mreturn\u001B[39;00m requests\u001B[38;5;241m.\u001B[39mrequest(\n\u001B[1;32m    117\u001B[0m     request\u001B[38;5;241m.\u001B[39mrequest_type\u001B[38;5;241m.\u001B[39mvalue,\n\u001B[1;32m    118\u001B[0m     url\u001B[38;5;241m=\u001B[39mrequest\u001B[38;5;241m.\u001B[39murl,\n\u001B[1;32m    119\u001B[0m     json\u001B[38;5;241m=\u001B[39mrequest\u001B[38;5;241m.\u001B[39mpost_values,\n\u001B[0;32m--> 120\u001B[0m     headers\u001B[38;5;241m=\u001B[39m\u001B[38;5;28;43mself\u001B[39;49m\u001B[38;5;241;43m.\u001B[39;49m\u001B[43m_prepare_headers\u001B[49m\u001B[43m(\u001B[49m\u001B[43mrequest\u001B[49m\u001B[43m)\u001B[49m,\n\u001B[1;32m    121\u001B[0m     timeout\u001B[38;5;241m=\u001B[39m\u001B[38;5;28mself\u001B[39m\u001B[38;5;241m.\u001B[39mconfig\u001B[38;5;241m.\u001B[39mdownload_timeout_seconds,\n\u001B[1;32m    122\u001B[0m )\n",
      "File \u001B[0;32m~/copernicus/venv/lib/python3.10/site-packages/sentinelhub/download/sentinelhub_client.py:131\u001B[0m, in \u001B[0;36mSentinelHubDownloadClient._prepare_headers\u001B[0;34m(self, request)\u001B[0m\n\u001B[1;32m    129\u001B[0m session_headers: JsonDict \u001B[38;5;241m=\u001B[39m {}\n\u001B[1;32m    130\u001B[0m \u001B[38;5;28;01mif\u001B[39;00m request\u001B[38;5;241m.\u001B[39muse_session:\n\u001B[0;32m--> 131\u001B[0m     session_headers \u001B[38;5;241m=\u001B[39m \u001B[38;5;28;43mself\u001B[39;49m\u001B[38;5;241;43m.\u001B[39;49m\u001B[43m_execute_thread_safe\u001B[49m\u001B[43m(\u001B[49m\u001B[38;5;28;43mself\u001B[39;49m\u001B[38;5;241;43m.\u001B[39;49m\u001B[43m_get_session_headers\u001B[49m\u001B[43m)\u001B[49m\n\u001B[1;32m    133\u001B[0m \u001B[38;5;28;01mreturn\u001B[39;00m {\u001B[38;5;241m*\u001B[39m\u001B[38;5;241m*\u001B[39mSHConstants\u001B[38;5;241m.\u001B[39mHEADERS, \u001B[38;5;241m*\u001B[39m\u001B[38;5;241m*\u001B[39msession_headers, \u001B[38;5;241m*\u001B[39m\u001B[38;5;241m*\u001B[39mrequest\u001B[38;5;241m.\u001B[39mheaders}\n",
      "File \u001B[0;32m~/copernicus/venv/lib/python3.10/site-packages/sentinelhub/download/sentinelhub_client.py:106\u001B[0m, in \u001B[0;36mSentinelHubDownloadClient._execute_thread_safe\u001B[0;34m(self, thread_unsafe_function, *args, **kwargs)\u001B[0m\n\u001B[1;32m    104\u001B[0m \u001B[38;5;250m\u001B[39m\u001B[38;5;124;03m\"\"\"Executes a function inside a thread lock and handles potential errors\"\"\"\u001B[39;00m\n\u001B[1;32m    105\u001B[0m \u001B[38;5;28;01mif\u001B[39;00m \u001B[38;5;28mself\u001B[39m\u001B[38;5;241m.\u001B[39mlock \u001B[38;5;129;01mis\u001B[39;00m \u001B[38;5;28;01mNone\u001B[39;00m:\n\u001B[0;32m--> 106\u001B[0m     \u001B[38;5;28;01mreturn\u001B[39;00m \u001B[43mthread_unsafe_function\u001B[49m\u001B[43m(\u001B[49m\u001B[38;5;241;43m*\u001B[39;49m\u001B[43margs\u001B[49m\u001B[43m,\u001B[49m\u001B[43m \u001B[49m\u001B[38;5;241;43m*\u001B[39;49m\u001B[38;5;241;43m*\u001B[39;49m\u001B[43mkwargs\u001B[49m\u001B[43m)\u001B[49m\n\u001B[1;32m    108\u001B[0m \u001B[38;5;28;01mwith\u001B[39;00m \u001B[38;5;28mself\u001B[39m\u001B[38;5;241m.\u001B[39mlock:\n\u001B[1;32m    109\u001B[0m     \u001B[38;5;28;01mreturn\u001B[39;00m thread_unsafe_function(\u001B[38;5;241m*\u001B[39margs, \u001B[38;5;241m*\u001B[39m\u001B[38;5;241m*\u001B[39mkwargs)\n",
      "File \u001B[0;32m~/copernicus/venv/lib/python3.10/site-packages/sentinelhub/download/sentinelhub_client.py:141\u001B[0m, in \u001B[0;36mSentinelHubDownloadClient._get_session_headers\u001B[0;34m(self)\u001B[0m\n\u001B[1;32m    135\u001B[0m \u001B[38;5;28;01mdef\u001B[39;00m \u001B[38;5;21m_get_session_headers\u001B[39m(\u001B[38;5;28mself\u001B[39m) \u001B[38;5;241m-\u001B[39m\u001B[38;5;241m>\u001B[39m JsonDict:\n\u001B[1;32m    136\u001B[0m \u001B[38;5;250m    \u001B[39m\u001B[38;5;124;03m\"\"\"Provides up-to-date session headers\u001B[39;00m\n\u001B[1;32m    137\u001B[0m \n\u001B[1;32m    138\u001B[0m \u001B[38;5;124;03m    Note that calling session_headers property triggers update if session has expired therefore this has to be\u001B[39;00m\n\u001B[1;32m    139\u001B[0m \u001B[38;5;124;03m    called in a thread-safe way\u001B[39;00m\n\u001B[1;32m    140\u001B[0m \u001B[38;5;124;03m    \"\"\"\u001B[39;00m\n\u001B[0;32m--> 141\u001B[0m     \u001B[38;5;28;01mreturn\u001B[39;00m \u001B[38;5;28;43mself\u001B[39;49m\u001B[38;5;241;43m.\u001B[39;49m\u001B[43mget_session\u001B[49m\u001B[43m(\u001B[49m\u001B[43m)\u001B[49m\u001B[38;5;241m.\u001B[39msession_headers\n",
      "File \u001B[0;32m~/copernicus/venv/lib/python3.10/site-packages/sentinelhub/download/sentinelhub_client.py:157\u001B[0m, in \u001B[0;36mSentinelHubDownloadClient.get_session\u001B[0;34m(self)\u001B[0m\n\u001B[1;32m    155\u001B[0m     session \u001B[38;5;241m=\u001B[39m SentinelHubDownloadClient\u001B[38;5;241m.\u001B[39m_CACHED_SESSIONS[SentinelHubDownloadClient\u001B[38;5;241m.\u001B[39m_UNIVERSAL_CACHE_KEY]\n\u001B[1;32m    156\u001B[0m \u001B[38;5;28;01melse\u001B[39;00m:\n\u001B[0;32m--> 157\u001B[0m     session \u001B[38;5;241m=\u001B[39m \u001B[43mSentinelHubSession\u001B[49m\u001B[43m(\u001B[49m\u001B[43mconfig\u001B[49m\u001B[38;5;241;43m=\u001B[39;49m\u001B[38;5;28;43mself\u001B[39;49m\u001B[38;5;241;43m.\u001B[39;49m\u001B[43mconfig\u001B[49m\u001B[43m)\u001B[49m\n\u001B[1;32m    158\u001B[0m     SentinelHubDownloadClient\u001B[38;5;241m.\u001B[39m_CACHED_SESSIONS[cache_key] \u001B[38;5;241m=\u001B[39m session\n\u001B[1;32m    160\u001B[0m \u001B[38;5;28;01mreturn\u001B[39;00m session\n",
      "File \u001B[0;32m~/copernicus/venv/lib/python3.10/site-packages/sentinelhub/download/session.py:67\u001B[0m, in \u001B[0;36mSentinelHubSession.__init__\u001B[0;34m(self, config, refresh_before_expiry, _token)\u001B[0m\n\u001B[1;32m     65\u001B[0m token_fetching_required \u001B[38;5;241m=\u001B[39m _token \u001B[38;5;129;01mis\u001B[39;00m \u001B[38;5;28;01mNone\u001B[39;00m \u001B[38;5;129;01mor\u001B[39;00m \u001B[38;5;28mself\u001B[39m\u001B[38;5;241m.\u001B[39mrefresh_before_expiry \u001B[38;5;129;01mis\u001B[39;00m \u001B[38;5;129;01mnot\u001B[39;00m \u001B[38;5;28;01mNone\u001B[39;00m\n\u001B[1;32m     66\u001B[0m \u001B[38;5;28;01mif\u001B[39;00m token_fetching_required \u001B[38;5;129;01mand\u001B[39;00m \u001B[38;5;129;01mnot\u001B[39;00m (\u001B[38;5;28mself\u001B[39m\u001B[38;5;241m.\u001B[39mconfig\u001B[38;5;241m.\u001B[39msh_client_id \u001B[38;5;129;01mand\u001B[39;00m \u001B[38;5;28mself\u001B[39m\u001B[38;5;241m.\u001B[39mconfig\u001B[38;5;241m.\u001B[39msh_client_secret):\n\u001B[0;32m---> 67\u001B[0m     \u001B[38;5;28;01mraise\u001B[39;00m \u001B[38;5;167;01mValueError\u001B[39;00m(\n\u001B[1;32m     68\u001B[0m         \u001B[38;5;124m\"\u001B[39m\u001B[38;5;124mConfiguration parameters \u001B[39m\u001B[38;5;124m'\u001B[39m\u001B[38;5;124msh_client_id\u001B[39m\u001B[38;5;124m'\u001B[39m\u001B[38;5;124m and \u001B[39m\u001B[38;5;124m'\u001B[39m\u001B[38;5;124msh_client_secret\u001B[39m\u001B[38;5;124m'\u001B[39m\u001B[38;5;124m have to be set in order \u001B[39m\u001B[38;5;124m\"\u001B[39m\n\u001B[1;32m     69\u001B[0m         \u001B[38;5;124m\"\u001B[39m\u001B[38;5;124mto authenticate with Sentinel Hub service. Check \u001B[39m\u001B[38;5;124m\"\u001B[39m\n\u001B[1;32m     70\u001B[0m         \u001B[38;5;124m\"\u001B[39m\u001B[38;5;124mhttps://sentinelhub-py.readthedocs.io/en/latest/configure.html for more info.\u001B[39m\u001B[38;5;124m\"\u001B[39m\n\u001B[1;32m     71\u001B[0m     )\n\u001B[1;32m     73\u001B[0m \u001B[38;5;28mself\u001B[39m\u001B[38;5;241m.\u001B[39m_token \u001B[38;5;241m=\u001B[39m \u001B[38;5;28mself\u001B[39m\u001B[38;5;241m.\u001B[39m_collect_new_token() \u001B[38;5;28;01mif\u001B[39;00m _token \u001B[38;5;129;01mis\u001B[39;00m \u001B[38;5;28;01mNone\u001B[39;00m \u001B[38;5;28;01melse\u001B[39;00m _token\n",
      "\u001B[0;31mValueError\u001B[0m: Configuration parameters 'sh_client_id' and 'sh_client_secret' have to be set in order to authenticate with Sentinel Hub service. Check https://sentinelhub-py.readthedocs.io/en/latest/configure.html for more info."
     ]
    }
   ],
   "execution_count": 15
  },
  {
   "cell_type": "markdown",
   "id": "f2507a24-c553-40b7-8128-fb0a20fc63c3",
   "metadata": {
    "tags": []
   },
   "source": [
    "## Process API"
   ]
  },
  {
   "cell_type": "markdown",
   "id": "46e21e86-8a63-49bf-84cf-02cd3611cab3",
   "metadata": {
    "tags": []
   },
   "source": [
    "### Example 1: True Color Image\n",
    "\n",
    "We build the request according to the [API Reference](https://documentation.dataspace.copernicus.eu/APIs/SentinelHub/ApiReference.html), using the `SentinelHubRequest` class. Each Process API request also needs an [evalscript](https://documentation.dataspace.copernicus.eu/APIs/SentinelHub/Evalscript.html). An evalscript (or \"custom script\") is a piece of Javascript code which defines how the satellite data shall be processed by Sentinel Hub and what values the service shall return. It is a required part of any [process](https://documentation.dataspace.copernicus.eu/APIs/SentinelHub/Process.html), [batch processing](https://documentation.dataspace.copernicus.eu/APIs/SentinelHub/Batch.html) or [OGC request](https://documentation.dataspace.copernicus.eu/APIs/SentinelHub/OGC.html).\n",
    "\n",
    "The information that we specify in the `SentinelHubRequest` object is:\n",
    "- an evalscript,\n",
    "- a list of input data collections with time interval,\n",
    "- a format of the response,\n",
    "- a bounding box and its size (size or resolution).\n",
    "- `mosaickingOrder` (optional): in this example we have used `leastCC` which will return pixels from the least cloudy acquisition in the specified time period.\n",
    "\n",
    "The evalscript in the example is used to select the appropriate bands. We return the RGB (B04, B03, B02) Sentinel-2 L2A bands.\n",
    "\n",
    "The least cloudy image from the time period is downloaded. Without any additional parameters in the evalscript, the downloaded data will correspond to reflectance values in `UINT8` format (values in 0-255 range)."
   ]
  },
  {
   "cell_type": "code",
   "id": "687f6b6e-1a28-486e-bcb3-caed4d9c31ac",
   "metadata": {},
   "source": [
    "evalscript_true_color = \"\"\"\n",
    "    //VERSION=3\n",
    "\n",
    "    function setup() {\n",
    "        return {\n",
    "            input: [{\n",
    "                bands: [\"B02\", \"B03\", \"B04\"]\n",
    "            }],\n",
    "            output: {\n",
    "                bands: 3\n",
    "            }\n",
    "        };\n",
    "    }\n",
    "\n",
    "    function evaluatePixel(sample) {\n",
    "        return [sample.B04, sample.B03, sample.B02];\n",
    "    }\n",
    "\"\"\"\n",
    "\n",
    "request_true_color = SentinelHubRequest(\n",
    "    evalscript=evalscript_true_color,\n",
    "    input_data=[\n",
    "        SentinelHubRequest.input_data(\n",
    "            data_collection=DataCollection.SENTINEL2_L2A.define_from(\n",
    "                name=\"s2l2a\", service_url=\"https://sh.dataspace.copernicus.eu\"\n",
    "            ),\n",
    "            time_interval=(\"2022-05-01\", \"2022-05-20\"),\n",
    "            other_args={\"dataFilter\": {\"mosaickingOrder\": \"leastCC\"}},\n",
    "        )\n",
    "    ],\n",
    "    responses=[SentinelHubRequest.output_response(\"default\", MimeType.PNG)],\n",
    "    bbox=aoi_bbox,\n",
    "    size=aoi_size,\n",
    "    config=config,\n",
    ")"
   ],
   "outputs": [],
   "execution_count": null
  },
  {
   "cell_type": "markdown",
   "id": "ee6a9fd9-2527-4077-9c39-c2cceb7469c8",
   "metadata": {},
   "source": [
    "The method `get_data()` will always return a list of length 1 with the available image from the requested time interval in the form of numpy arrays."
   ]
  },
  {
   "cell_type": "code",
   "id": "18e06f78-67e2-4b20-b762-1489836544b3",
   "metadata": {},
   "source": [
    "true_color_imgs = request_true_color.get_data()"
   ],
   "outputs": [],
   "execution_count": null
  },
  {
   "cell_type": "code",
   "id": "77417881-2908-4e56-b8f9-4ad6736cd229",
   "metadata": {},
   "source": [
    "print(\n",
    "    f\"Returned data is of type = {type(true_color_imgs)} and length {len(true_color_imgs)}.\"\n",
    ")\n",
    "print(\n",
    "    f\"Single element in the list is of type {type(true_color_imgs[-1])} and has shape {true_color_imgs[-1].shape}\"\n",
    ")"
   ],
   "outputs": [],
   "execution_count": null
  },
  {
   "cell_type": "code",
   "id": "c64efc26-aa0f-4892-9538-01335c56f3a7",
   "metadata": {},
   "source": [
    "image = true_color_imgs[0]\n",
    "print(f\"Image type: {image.dtype}\")\n",
    "\n",
    "# plot function\n",
    "# factor 1/255 to scale between 0-1\n",
    "# factor 3.5 to increase brightness\n",
    "plot_image(image, factor=3.5 / 255, clip_range=(0, 1))"
   ],
   "outputs": [],
   "execution_count": null
  },
  {
   "cell_type": "markdown",
   "id": "27ae40a9-ca02-417d-854f-8d832c6c02af",
   "metadata": {},
   "source": [
    "### Example 2: NDVI Image\n",
    "\n",
    "Secondly, we will also show you an example of how to calculate and visualise NDVI using the same API. NDVI is a very commonly used spectral vegetation index for vegetation monitoring, for example, monitoring crop growth and yields. As you will notice in the codeblock below, the evalscript has changed substantially:\n",
    "- we are only using Band 4 and Band 8 as an input into our script.\n",
    "- In the `evaluatePixel()` function, we calculate NDVI and visualise this using the `imgVals` array. "
   ]
  },
  {
   "cell_type": "code",
   "id": "6ccab2fc-15b7-4bd1-a76e-b8a89890f25a",
   "metadata": {},
   "source": [
    "evalscript_ndvi = \"\"\"\n",
    "//VERSION=3\n",
    "function setup() {\n",
    "  return {\n",
    "    input: [{\n",
    "      bands: [\n",
    "        \"B04\",\n",
    "        \"B08\",\n",
    "        \"dataMask\"\n",
    "      ]\n",
    "    }],\n",
    "    output: {\n",
    "      bands: 4\n",
    "    }\n",
    "  }\n",
    "}\n",
    "  \n",
    "\n",
    "function evaluatePixel(sample) {\n",
    "    let val = (sample.B08 - sample.B04) / (sample.B08 + sample.B04);\n",
    "    let imgVals = null;\n",
    "    \n",
    "    if (val<-1.1) imgVals = [0,0,0];\n",
    "    else if (val<-0.2) imgVals = [0.75,0.75,0.75];\n",
    "    else if (val<-0.1) imgVals = [0.86,0.86,0.86];\n",
    "    else if (val<0) imgVals = [1,1,0.88];\n",
    "    else if (val<0.025) imgVals = [1,0.98,0.8];\n",
    "    else if (val<0.05) imgVals = [0.93,0.91,0.71];\n",
    "    else if (val<0.075) imgVals = [0.87,0.85,0.61];\n",
    "    else if (val<0.1) imgVals = [0.8,0.78,0.51];\n",
    "    else if (val<0.125) imgVals = [0.74,0.72,0.42];\n",
    "    else if (val<0.15) imgVals = [0.69,0.76,0.38];\n",
    "    else if (val<0.175) imgVals = [0.64,0.8,0.35];\n",
    "    else if (val<0.2) imgVals = [0.57,0.75,0.32];\n",
    "    else if (val<0.25) imgVals = [0.5,0.7,0.28];\n",
    "    else if (val<0.3) imgVals = [0.44,0.64,0.25];\n",
    "    else if (val<0.35) imgVals = [0.38,0.59,0.21];\n",
    "    else if (val<0.4) imgVals = [0.31,0.54,0.18];\n",
    "    else if (val<0.45) imgVals = [0.25,0.49,0.14];\n",
    "    else if (val<0.5) imgVals = [0.19,0.43,0.11];\n",
    "    else if (val<0.55) imgVals = [0.13,0.38,0.07];\n",
    "    else if (val<0.6) imgVals = [0.06,0.33,0.04];\n",
    "    else imgVals = [0,0.27,0];\n",
    "    \n",
    "    \n",
    "    imgVals.push(sample.dataMask)\n",
    "    \n",
    "    return imgVals\n",
    "}\n",
    "\"\"\"\n",
    "\n",
    "request_ndvi_img = SentinelHubRequest(\n",
    "    evalscript=evalscript_ndvi,\n",
    "    input_data=[\n",
    "        SentinelHubRequest.input_data(\n",
    "            data_collection=DataCollection.SENTINEL2_L2A.define_from(\n",
    "                name=\"s2l2a\", service_url=\"https://sh.dataspace.copernicus.eu\"\n",
    "            ),\n",
    "            time_interval=(\"2022-05-01\", \"2022-05-20\"),\n",
    "            other_args={\"dataFilter\": {\"mosaickingOrder\": \"leastCC\"}},\n",
    "        )\n",
    "    ],\n",
    "    responses=[SentinelHubRequest.output_response(\"default\", MimeType.PNG)],\n",
    "    bbox=aoi_bbox,\n",
    "    size=aoi_size,\n",
    "    config=config,\n",
    ")"
   ],
   "outputs": [],
   "execution_count": null
  },
  {
   "cell_type": "markdown",
   "id": "91325e45-fcb7-49c7-b360-a7943fd5ee0a",
   "metadata": {},
   "source": [
    "The same method as before is used to request and then visualise the data. In the visualisation, the lighter greens indicate a higher NDVI value (vegetation, forest) and the darker greens (urban areas and water bodies) represent areas with lower NDVI values."
   ]
  },
  {
   "cell_type": "code",
   "id": "d085bc35-9a86-4801-9d8e-2cb74d2649f3",
   "metadata": {},
   "source": [
    "ndvi_img = request_ndvi_img.get_data()"
   ],
   "outputs": [],
   "execution_count": null
  },
  {
   "cell_type": "code",
   "id": "a608b6d0-5f01-4e80-8e6b-fc3cad93458c",
   "metadata": {},
   "source": [
    "print(\n",
    "    f\"Returned data is of type = {type(true_color_imgs)} and length {len(true_color_imgs)}.\"\n",
    ")\n",
    "print(\n",
    "    f\"Single element in the list is of type {type(true_color_imgs[-1])} and has shape {true_color_imgs[-1].shape}\"\n",
    ")"
   ],
   "outputs": [],
   "execution_count": null
  },
  {
   "cell_type": "code",
   "id": "cc655374-3135-4d2c-bd6b-0df37e4e3a0f",
   "metadata": {},
   "source": [
    "image = ndvi_img[0]\n",
    "print(f\"Image type: {image.dtype}\")\n",
    "\n",
    "# plot function\n",
    "plot_image(image, factor=1 / 255)"
   ],
   "outputs": [],
   "execution_count": null
  },
  {
   "cell_type": "markdown",
   "id": "9e41cb89",
   "metadata": {},
   "source": [
    "## Statistical API"
   ]
  },
  {
   "cell_type": "markdown",
   "id": "93ddf396",
   "metadata": {},
   "source": [
    "In the Process API examples, we have seen how to obtain satellite imagery. Statistical API can be used in a very similar way. The main difference is that the results of Statistical API are aggregated statistical values of satellite data instead of entire images. In many use cases, such values are all that we need. By using Statistical API we can avoid downloading and processing large amounts of satellite data.\n",
    "\n",
    "All general rules for building evalscripts apply. However, there are some specifics when using evalscripts with the Statistical API:\n",
    "\n",
    "- The `evaluatePixel()` function must, in addition to other output, always return a `dataMask` output. This output defines which pixels are excluded from calculations. For more details and an example, see [here](https://documentation.dataspace.copernicus.eu/APIs/SentinelHub/Statistical.html).\n",
    "- The default value of sampleType is `FLOAT32`.\n",
    "- The output.bands parameter in the setup() function can be an array. This makes it possible to specify custom names for the output bands and different output `dataMask` for different outputs, see this [example](https://documentation.dataspace.copernicus.eu/APIs/SentinelHub/Statistical/Examples.html#multiple-outputs-with-different-datamasks-multi-band-output-with-custom-bands-names-and-different-histogram-types).\n",
    "\n",
    "### Requesting, and plotting an NDVI time series for a single field\n",
    "\n",
    "In the example here, we will calculate NDVI for a specific field of interest and then plot the mean NDVI and standard deviation over the requested time period. First we define our evalscript:"
   ]
  },
  {
   "cell_type": "code",
   "id": "0bd0c9f7",
   "metadata": {},
   "source": [
    "evalscript = \"\"\"\n",
    "//VERSION=3\n",
    "function setup() {\n",
    "  return {\n",
    "    input: [{\n",
    "      bands: [\n",
    "        \"B04\",\n",
    "        \"B08\",\n",
    "        \"dataMask\"\n",
    "      ]\n",
    "    }],\n",
    "    output: [\n",
    "      {\n",
    "        id: \"ndvi\",\n",
    "        bands: 1\n",
    "      },\n",
    "      {\n",
    "        id: \"dataMask\",\n",
    "        bands: 1\n",
    "      }]\n",
    "  };\n",
    "}\n",
    "\n",
    "function evaluatePixel(samples) {\n",
    "    let index = (samples.B08 - samples.B04) / (samples.B08+samples.B04);\n",
    "    return {\n",
    "        ndvi: [index],\n",
    "        dataMask: [samples.dataMask],\n",
    "    };\n",
    "}\n",
    "\n",
    "\"\"\""
   ],
   "outputs": [],
   "execution_count": null
  },
  {
   "cell_type": "markdown",
   "id": "17745d6b-b389-4ce8-a527-4e75ac86feb9",
   "metadata": {},
   "source": [
    "In this example, we will compare two fields within the area we requested using Process API:"
   ]
  },
  {
   "cell_type": "code",
   "id": "1ce23bbc",
   "metadata": {},
   "source": [
    "field1 = {\n",
    "    \"type\": \"Polygon\",\n",
    "    \"coordinates\": [\n",
    "        [\n",
    "            [15.541723001099184, 46.820368115848446],\n",
    "            [15.541756949727985, 46.82037740810231],\n",
    "            [15.54192669287196, 46.82008470133467],\n",
    "            [15.542211861353849, 46.81964331510048],\n",
    "            [15.539394125163792, 46.81905789197882],\n",
    "            [15.539251540922846, 46.819805931503055],\n",
    "            [15.541723001099184, 46.820368115848446],\n",
    "        ]\n",
    "    ],\n",
    "}\n",
    "\n",
    "field2 = {\n",
    "    \"type\": \"Polygon\",\n",
    "    \"coordinates\": [\n",
    "        [\n",
    "            [15.507170086710744, 46.83938135202761],\n",
    "            [15.508086699688228, 46.83921879483953],\n",
    "            [15.50831755036404, 46.839576420004114],\n",
    "            [15.508582349668648, 46.83992939835186],\n",
    "            [15.508874307876296, 46.840221997066486],\n",
    "            [15.50860950857169, 46.840514594187695],\n",
    "            [15.50842618597619, 46.84082112279607],\n",
    "            [15.508113858591262, 46.840639992466144],\n",
    "            [15.50781511065786, 46.84039384001332],\n",
    "            [15.50739414766079, 46.83981328730921],\n",
    "            [15.507149717533464, 46.83939064099493],\n",
    "            [15.507170086710744, 46.83938135202761],\n",
    "        ]\n",
    "    ],\n",
    "}"
   ],
   "outputs": [],
   "execution_count": null
  },
  {
   "cell_type": "markdown",
   "id": "1d2f795f-12ab-49c2-9100-294f941da0ab",
   "metadata": {},
   "source": [
    "Now we have defined the evalscript and the two fields of interest, we can build the first Statistical API Request, before returning the response for the first field. In this request, as part of the payload we define some input parameters:\n",
    "- `time_interval` this defines the time range of our request.\n",
    "- `aggregation_interval` this defines the length of time each interval is. In this case, the interval is 10 days. he aggregation intervals should be at least one day long (e.g. \"P5D\", \"P30D\"). You can only use period OR time designator not both. \n",
    "- `dataFilter: {maxCloudCoverage}` this is an additional argument in our request which filters out image acquisitions that have a cloud coverage percentage above 10%.\n",
    "\n",
    "**NOTE:**\n",
    "If a timeRange is not divisible by an aggregationInterval, the last (\"not full\") time interval will be dismissed by default (SKIP option). The user can instead set the lastIntervalBehavior to SHORTEN (shortens the last interval so that it ends at the end of the provided time range) or EXTEND (extends the last interval over the end of the provided time range so that all the intervals are of equal duration)."
   ]
  },
  {
   "cell_type": "code",
   "id": "ce2a402f",
   "metadata": {},
   "source": [
    "geometry = Geometry(geometry=field1, crs=CRS.WGS84)\n",
    "\n",
    "request = SentinelHubStatistical(\n",
    "    aggregation=SentinelHubStatistical.aggregation(\n",
    "        evalscript=evalscript,\n",
    "        time_interval=(\"2022-04-01T00:00:00Z\", \"2022-08-30T23:59:59Z\"),\n",
    "        aggregation_interval=\"P10D\",\n",
    "        size=[368.043, 834.345],\n",
    "    ),\n",
    "    input_data=[\n",
    "        SentinelHubStatistical.input_data(\n",
    "            DataCollection.SENTINEL2_L1C.define_from(\n",
    "                name=\"s2l1c\", service_url=\"https://sh.dataspace.copernicus.eu\"\n",
    "            ),\n",
    "            other_args={\"dataFilter\": {\"maxCloudCoverage\": 10}},\n",
    "        ),\n",
    "    ],\n",
    "    geometry=geometry,\n",
    "    config=config,\n",
    ")\n",
    "\n",
    "response1 = request.get_data()\n",
    "response1"
   ],
   "outputs": [],
   "execution_count": null
  },
  {
   "cell_type": "markdown",
   "id": "4c0d997c-0501-484f-9fc8-54c7093c71c2",
   "metadata": {},
   "source": [
    "However, as it is clear to see, our response is not that useful in `json` format. It's difficult to read from a human perspective. So, let's transform it into a `pandas` dataframe. To help us achieve this, let's define some helper functions. "
   ]
  },
  {
   "cell_type": "code",
   "id": "a5a3bda3",
   "metadata": {},
   "source": [
    "# define functions to extract statistics for all acquisition dates\n",
    "def extract_stats(date, stat_data):\n",
    "    d = {}\n",
    "    for key, value in stat_data[\"outputs\"].items():\n",
    "        stats = value[\"bands\"][\"B0\"][\"stats\"]\n",
    "        if stats[\"sampleCount\"] == stats[\"noDataCount\"]:\n",
    "            continue\n",
    "        else:\n",
    "            d[\"date\"] = [date]\n",
    "            for stat_name, stat_value in stats.items():\n",
    "                if stat_name == \"sampleCount\" or stat_name == \"noDataCount\":\n",
    "                    continue\n",
    "                else:\n",
    "                    d[f\"{key}_{stat_name}\"] = [stat_value]\n",
    "    return pd.DataFrame(d)\n",
    "\n",
    "\n",
    "def read_acquisitions_stats(stat_data):\n",
    "    df_li = []\n",
    "    for aq in stat_data:\n",
    "        date = aq[\"interval\"][\"from\"][:10]\n",
    "        df_li.append(extract_stats(date, aq))\n",
    "    return pd.concat(df_li)"
   ],
   "outputs": [],
   "execution_count": null
  },
  {
   "cell_type": "code",
   "id": "f1cc9ee3",
   "metadata": {},
   "source": [
    "result_df1 = read_acquisitions_stats(response1[0][\"data\"])\n",
    "result_df1"
   ],
   "outputs": [],
   "execution_count": null
  },
  {
   "cell_type": "markdown",
   "id": "29ba1356-7dbc-439e-9801-b767ec859da0",
   "metadata": {},
   "source": [
    "We can take this another step further, and display the data in a time series using the Matplotlib python library:"
   ]
  },
  {
   "cell_type": "code",
   "id": "90d22ebf-5a10-4279-b776-227137f60ef4",
   "metadata": {},
   "source": [
    "fig_stat, ax_stat = plt.subplots(1, 1, figsize=(12, 6))\n",
    "t1 = result_df1[\"date\"]\n",
    "ndvi_mean_field1 = result_df1[\"ndvi_mean\"]\n",
    "ndvi_std_field1 = result_df1[\"ndvi_stDev\"]\n",
    "ax_stat.plot(t1, ndvi_mean_field1, label=\"field 1 mean\")\n",
    "ax_stat.fill_between(\n",
    "    t1,\n",
    "    ndvi_mean_field1 - ndvi_std_field1,\n",
    "    ndvi_mean_field1 + ndvi_std_field1,\n",
    "    alpha=0.3,\n",
    "    label=\"field 1 stDev\",\n",
    ")\n",
    "ax_stat.tick_params(axis=\"x\", labelrotation=30, labelsize=12)\n",
    "ax_stat.tick_params(axis=\"y\", labelsize=12)\n",
    "ax_stat.set_xlabel(\"Date\", size=15)\n",
    "ax_stat.set_ylabel(\"NDVI/unitless\", size=15)\n",
    "ax_stat.legend(loc=\"lower right\", prop={\"size\": 12})\n",
    "ax_stat.set_title(\"NDVI time series\", fontsize=20)\n",
    "for label in ax_stat.get_xticklabels()[1::2]:\n",
    "    label.set_visible(False)"
   ],
   "outputs": [],
   "execution_count": null
  },
  {
   "cell_type": "markdown",
   "id": "68005c1a-65ef-47ec-bee2-053bb57fbb92",
   "metadata": {},
   "source": [
    "### Comparing different fields\n",
    "\n",
    "Now that we have learnt how to plot the data for the first field, let's take this another step forward and compare the NDVI time series of the first field with the second field. We will now run the same request for our second field and then transform the response into a second Pandas dataframe."
   ]
  },
  {
   "cell_type": "code",
   "id": "10c4de59-c508-4a99-b50c-7842b6f2622d",
   "metadata": {},
   "source": [
    "geometry = Geometry(geometry=field2, crs=CRS.WGS84)\n",
    "\n",
    "request = SentinelHubStatistical(\n",
    "    aggregation=SentinelHubStatistical.aggregation(\n",
    "        evalscript=evalscript,\n",
    "        time_interval=(\"2022-04-01T00:00:00Z\", \"2022-08-30T23:59:59Z\"),\n",
    "        aggregation_interval=\"P10D\",\n",
    "        size=[368.043, 834.345],\n",
    "    ),\n",
    "    input_data=[\n",
    "        SentinelHubStatistical.input_data(\n",
    "            DataCollection.SENTINEL2_L1C.define_from(\n",
    "                name=\"s2l1c\", service_url=\"https://sh.dataspace.copernicus.eu\"\n",
    "            ),\n",
    "            other_args={\"dataFilter\": {\"maxCloudCoverage\": 10}},\n",
    "        ),\n",
    "    ],\n",
    "    geometry=geometry,\n",
    "    config=config,\n",
    ")\n",
    "\n",
    "response2 = request.get_data()\n",
    "result_df2 = read_acquisitions_stats(response2[0][\"data\"])"
   ],
   "outputs": [],
   "execution_count": null
  },
  {
   "cell_type": "markdown",
   "id": "dacbb88f",
   "metadata": {},
   "source": [
    "Now we have requested the statistics for both fields and transformed them into Pandas dataframes, let's plot the two time series and visualise this in the same plot:"
   ]
  },
  {
   "cell_type": "code",
   "id": "a90b18ec",
   "metadata": {},
   "source": [
    "fig_stat, ax_stat = plt.subplots(1, 1, figsize=(12, 6))\n",
    "t1 = result_df1[\"date\"]\n",
    "t2 = result_df1[\"date\"]\n",
    "ndvi_mean_field1 = result_df1[\"ndvi_mean\"]\n",
    "ndvi_std_field1 = result_df1[\"ndvi_stDev\"]\n",
    "ndvi_mean_field2 = result_df2[\"ndvi_mean\"]\n",
    "ndvi_std_field2 = result_df2[\"ndvi_stDev\"]\n",
    "ax_stat.plot(t1, ndvi_mean_field1, label=\"field 1 mean\")\n",
    "ax_stat.fill_between(\n",
    "    t1,\n",
    "    ndvi_mean_field1 - ndvi_std_field1,\n",
    "    ndvi_mean_field1 + ndvi_std_field1,\n",
    "    alpha=0.3,\n",
    "    label=\"field 1 stDev\",\n",
    ")\n",
    "ax_stat.plot(t2, ndvi_mean_field2, label=\"field 2 mean\")\n",
    "ax_stat.fill_between(\n",
    "    t2,\n",
    "    ndvi_mean_field2 - ndvi_std_field2,\n",
    "    ndvi_mean_field2 + ndvi_std_field2,\n",
    "    alpha=0.3,\n",
    "    label=\"field 2 stDev\",\n",
    ")\n",
    "ax_stat.tick_params(axis=\"x\", labelrotation=30, labelsize=12)\n",
    "ax_stat.tick_params(axis=\"y\", labelsize=12)\n",
    "ax_stat.set_xlabel(\"Date\", size=15)\n",
    "ax_stat.set_ylabel(\"NDVI/unitless\", size=15)\n",
    "ax_stat.legend(loc=\"lower right\", prop={\"size\": 12})\n",
    "ax_stat.set_title(\"NDVI time series\", fontsize=20)\n",
    "for label in ax_stat.get_xticklabels()[1::2]:\n",
    "    label.set_visible(False)"
   ],
   "outputs": [],
   "execution_count": null
  },
  {
   "cell_type": "markdown",
   "id": "26beb688-2a1f-4210-85a0-33eb23f8f539",
   "metadata": {},
   "source": [
    "## Summary\n",
    "\n",
    "So what have we learnt in this notebook?\n",
    "\n",
    "- How to quickly access satellite imagery though Sentinel Hub using Process API.\n",
    "- Visualising NDVI derived from the satellite imagery \n",
    "- Using Statistical API to produce NDVI time series for single and multiple fields.\n",
    "\n",
    "This concludes this notebook on working with Sentinel Hub APIs to access data from the Copernicus Data Space Ecosystem. For more information you can check out the [Sentinel Hub API](https://dataspace.copernicus.eu/analyse/apis/sentinel-hub) Documentation and the [Sentinel Hub Python package](https://sentinelhub-py.readthedocs.io/en/latest/index.html) documentation too."
   ]
  }
 ],
 "metadata": {
  "kernelspec": {
   "display_name": "Python 3 (ipykernel)",
   "language": "python",
   "name": "python3"
  },
  "language_info": {
   "codemirror_mode": {
    "name": "ipython",
    "version": 3
   },
   "file_extension": ".py",
   "mimetype": "text/x-python",
   "name": "python",
   "nbconvert_exporter": "python",
   "pygments_lexer": "ipython3",
   "version": "3.9.13"
  }
 },
 "nbformat": 4,
 "nbformat_minor": 5
}
